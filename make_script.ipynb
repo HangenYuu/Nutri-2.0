{
 "cells": [
  {
   "cell_type": "markdown",
   "metadata": {},
   "source": [
    "# Notebook2Script"
   ]
  },
  {
   "cell_type": "markdown",
   "metadata": {},
   "source": [
    "Transfer messy_experiment.ipynb to `helper` folder."
   ]
  },
  {
   "cell_type": "markdown",
   "metadata": {},
   "source": [
    "## Data"
   ]
  },
  {
   "cell_type": "code",
   "execution_count": 1,
   "metadata": {},
   "outputs": [
    {
     "name": "stdout",
     "output_type": "stream",
     "text": [
      "Overwriting helper/setup_data.py\n"
     ]
    }
   ],
   "source": [
    "%%writefile helper/setup_data.py\n",
    "\"\"\"\n",
    "Contains functions to download and setup the data\n",
    "\"\"\"\n",
    "import torchvision.transforms as T\n",
    "import torchvision.datasets as datasets\n",
    "from torch.utils.data import DataLoader\n",
    "\n",
    "from sklearn.model_selection import train_test_split\n",
    "import kaggle\n",
    "import zipfile\n",
    "import shutil\n",
    "import os\n",
    "import json\n",
    "from pathlib import Path"
   ]
  },
  {
   "cell_type": "code",
   "execution_count": 2,
   "metadata": {},
   "outputs": [
    {
     "name": "stdout",
     "output_type": "stream",
     "text": [
      "Appending to helper/setup_data.py\n"
     ]
    }
   ],
   "source": [
    "%%writefile -a helper/setup_data.py\n",
    "\n",
    "def get_data_transforms():\n",
    "    \"\"\"\n",
    "    Returns the data transforms for training and validation/testing.\n",
    "\n",
    "    Args:\n",
    "        None\n",
    "    \n",
    "    Returns:\n",
    "        train_transforms (torchvision.transforms.Compose): Transforms for training data\n",
    "        valid_n_test_transforms (torchvision.transforms.Compose): Transforms for validation and testing data\n",
    "    \"\"\"\n",
    "    train_transforms = T.Compose([T.RandomResizedCrop(224),\n",
    "                                      T.RandomRotation(35),\n",
    "                                      T.RandomVerticalFlip(0.27),\n",
    "                                      T.RandomHorizontalFlip(0.27),\n",
    "                                      T.ToTensor(),\n",
    "                                      T.Normalize([0.485, 0.456, 0.406], [0.229, 0.224, 0.225])])\n",
    "\n",
    "    test_transforms = T.Compose([T.Resize((224,224)),\n",
    "                                       T.ToTensor(),\n",
    "                                       T.Normalize([0.485, 0.456, 0.406], [0.229, 0.224, 0.225])])\n",
    "\n",
    "    return train_transforms, test_transforms"
   ]
  },
  {
   "cell_type": "code",
   "execution_count": 3,
   "metadata": {},
   "outputs": [
    {
     "name": "stdout",
     "output_type": "stream",
     "text": [
      "Appending to helper/setup_data.py\n"
     ]
    }
   ],
   "source": [
    "%%writefile -a helper/setup_data.py\n",
    "\n",
    "def download_and_extract_data():\n",
    "    \"\"\"\n",
    "    Downloads the data from Kaggle and extracts it.\n",
    "\n",
    "    Args:\n",
    "        None\n",
    "    \n",
    "    Returns:\n",
    "        data_path (pathlib.Path): Path to the extracted data\n",
    "    \"\"\"\n",
    "    data_path = Path('data')\n",
    "    if not data_path.exists():\n",
    "        os.mkdir(data_path)\n",
    "        path = Path('kmader/food41')\n",
    "        kaggle.api.dataset_download_cli(str(path))\n",
    "        zipfile.ZipFile('food41.zip').extractall(data_path)\n",
    "    return data_path\n",
    "\n",
    "def setup_folder():\n",
    "    \"\"\"\n",
    "    Downloads and extracts the data, and sets up the folder structure\n",
    "    for training and validation/testing.\n",
    "\n",
    "    Args:\n",
    "        None\n",
    "\n",
    "    Returns:\n",
    "        data_path (pathlib.Path): Path to the extracted data\n",
    "    \"\"\"\n",
    "    data_path = download_and_extract_data()\n",
    "    if os.path.exists(data_path/'train'):\n",
    "        return data_path\n",
    "    \n",
    "    with open(data_path/'meta/meta/train.json', 'r') as fp:\n",
    "        train_dict = json.load(fp)\n",
    "    with open(data_path/'meta/meta/test.json', 'r') as fp:\n",
    "        test_dict = json.load(fp)\n",
    "\n",
    "    new_folders = ['train', 'test']\n",
    "    for folder in new_folders:\n",
    "        if not os.path.exists(data_path/folder):\n",
    "            os.mkdir(data_path/folder)\n",
    "        if folder == 'train':\n",
    "            if not os.path.exists(data_path/'valid'):\n",
    "                os.mkdir(data_path/'valid')\n",
    "            for key, value in train_dict.items():\n",
    "                train_value, valid_value = train_test_split(value, train_size=0.75)\n",
    "                train_set, valid_set = set(train_value), set(valid_value)\n",
    "                if not os.path.exists(data_path/folder/key):\n",
    "                    os.mkdir(data_path/folder/key)\n",
    "                if not os.path.exists(data_path/'valid'/key):\n",
    "                    os.mkdir(data_path/'valid'/key)\n",
    "                for image in os.listdir(data_path/'images'/key):\n",
    "                    image_path = key + '/' + image\n",
    "                    image_id = image_path.split('.')[0]\n",
    "                    if image_id in train_set:\n",
    "                        shutil.move(data_path/'images'/image_path, data_path/folder/image_path)\n",
    "                    if image_id in valid_set:\n",
    "                        shutil.copy(data_path/'images'/image_path, data_path/'valid'/image_path)\n",
    "        else:\n",
    "            for key, value in test_dict.items():\n",
    "                test_set = set(value)\n",
    "                if not os.path.exists(data_path/folder/key):\n",
    "                    os.mkdir(data_path/folder/key)\n",
    "                for image in os.listdir(data_path/'images'/key):\n",
    "                    image_path = key + '/' + image\n",
    "                    image_id = image_path.split('.')[0]\n",
    "                    if image_id in test_set:\n",
    "                        shutil.move(data_path/'images'/image_path, data_path/folder/image_path)\n",
    "    shutil.rmtree(data_path/'images')\n",
    "    return data_path\n",
    "\n",
    "def get_data_loaders(train_transforms, test_transforms, batch_size=64):\n",
    "    \"\"\"\n",
    "    Returns the data loaders for training, validation, and testing.\n",
    "\n",
    "    Args:\n",
    "        batch_size (int): Batch size for the data loaders\n",
    "        \n",
    "    Returns:\n",
    "        train_loader (torch.utils.data.DataLoader): Data loader for training data\n",
    "        valid_loader (torch.utils.data.DataLoader): Data loader for validation data\n",
    "        test_loader (torch.utils.data.DataLoader): Data loader for testing data\n",
    "        test_data (torchvision.datasets.ImageFolder): Testing data\n",
    "    \"\"\"\n",
    "    data_path = setup_folder()\n",
    "\n",
    "    train_data = datasets.ImageFolder(str(data_path/'train'), transform=train_transforms)\n",
    "    valid_data = datasets.ImageFolder(str(data_path/'valid'), transform=test_transforms)\n",
    "    test_data = datasets.ImageFolder(str(data_path/'test'), transform=test_transforms)\n",
    "\n",
    "    train_loader = DataLoader(train_data, batch_size=batch_size, shuffle=True)\n",
    "    valid_loader = DataLoader(valid_data, batch_size=batch_size, shuffle=False)\n",
    "    test_loader = DataLoader(test_data, batch_size=batch_size, shuffle=False)\n",
    "    return train_loader, valid_loader, test_loader, test_data"
   ]
  },
  {
   "cell_type": "code",
   "execution_count": 4,
   "metadata": {},
   "outputs": [
    {
     "name": "stdout",
     "output_type": "stream",
     "text": [
      "Appending to helper/setup_data.py\n"
     ]
    }
   ],
   "source": [
    "%%writefile -a helper/setup_data.py\n",
    "\n",
    "def get_metadata(dataset):\n",
    "    \"\"\"\n",
    "    Returns the metadata for the dataset.\n",
    "\n",
    "    Args:\n",
    "        dataset (torchvision.datasets.ImageFolder): Dataset for which metadata is required\n",
    "    \n",
    "    Returns:\n",
    "        classes (list): List of class names\n",
    "        class_to_idx (dict): Dictionary mapping class names to indices\n",
    "        idx_to_class (dict): Dictionary mapping indices to class names\n",
    "    \"\"\"\n",
    "    classes, class_to_idx = dataset.classes, dataset.class_to_idx\n",
    "    idx_to_class = {value: key for key, value in class_to_idx.items()}\n",
    "    return classes, class_to_idx, idx_to_class"
   ]
  },
  {
   "cell_type": "markdown",
   "metadata": {},
   "source": [
    "## Plotting"
   ]
  },
  {
   "cell_type": "code",
   "execution_count": 5,
   "metadata": {},
   "outputs": [
    {
     "name": "stdout",
     "output_type": "stream",
     "text": [
      "Overwriting helper/plot.py\n"
     ]
    }
   ],
   "source": [
    "%%writefile helper/plot.py\n",
    "\"\"\"\n",
    "Contains functions for data visualization and plotting\n",
    "\"\"\"\n",
    "import torch\n",
    "import matplotlib.pyplot as plt"
   ]
  },
  {
   "cell_type": "code",
   "execution_count": 6,
   "metadata": {},
   "outputs": [
    {
     "name": "stdout",
     "output_type": "stream",
     "text": [
      "Appending to helper/plot.py\n"
     ]
    }
   ],
   "source": [
    "%%writefile -a helper/plot.py\n",
    "\n",
    "def imshow(image, ax=None, title=None):\n",
    "    \"\"\"\n",
    "    imshow for IMAGENET-style transformed images in\n",
    "    torch.Tensor format.\n",
    "\n",
    "    Args:\n",
    "        image (torch.Tensor): Image to be plotted\n",
    "        ax (matplotlib.axes.Axes): Axes object to plot the image on\n",
    "        title (str): Title for the image\n",
    "    \n",
    "    Returns:\n",
    "        ax (matplotlib.axes.Axes): Axes object with the image plotted\n",
    "    \"\"\"\n",
    "    if ax is None:\n",
    "        fig, ax = plt.subplots()\n",
    "    \n",
    "    # PyTorch tensors assume the color channel is the first dimension\n",
    "    # but matplotlib assumes is the third dimension\n",
    "    image = image.permute((1, 2, 0))\n",
    "    \n",
    "    # Undo preprocessing\n",
    "    mean = torch.tensor([0.485, 0.456, 0.406])\n",
    "    std = torch.tensor([0.229, 0.224, 0.225])\n",
    "    image = (std * image + mean)\n",
    "    \n",
    "    \n",
    "    ax.imshow(image)\n",
    "    if title is not None:\n",
    "        ax.set_title(title)\n",
    "    \n",
    "    return ax"
   ]
  },
  {
   "cell_type": "code",
   "execution_count": 7,
   "metadata": {},
   "outputs": [
    {
     "name": "stdout",
     "output_type": "stream",
     "text": [
      "Appending to helper/plot.py\n"
     ]
    }
   ],
   "source": [
    "%%writefile -a helper/plot.py\n",
    "\n",
    "def image_grid(images, labels, idx_to_class, rows=2, cols=4, figsize=(20, 10)):\n",
    "    \"\"\"\n",
    "    Plots a grid of images and their labels.\n",
    "\n",
    "    Args:\n",
    "        images (torch.Tensor): Images to be plotted\n",
    "        labels (torch.Tensor): Labels for the images\n",
    "        idx_to_class (dict): Dictionary mapping indices to class names\n",
    "        rows (int): Number of rows in the grid\n",
    "        cols (int): Number of columns in the grid\n",
    "        figsize (tuple): Size of the figure\n",
    "    \n",
    "    Returns:\n",
    "        None\n",
    "    \"\"\"\n",
    "    _, axes = plt.subplots(rows, cols, figsize=figsize)\n",
    "    for i, ax in enumerate(axes.flat):\n",
    "        ax = imshow(images[i], ax=ax, title=idx_to_class[labels[i].item()])\n",
    "    plt.tight_layout()\n",
    "    plt.show()"
   ]
  },
  {
   "cell_type": "code",
   "execution_count": 8,
   "metadata": {},
   "outputs": [
    {
     "name": "stdout",
     "output_type": "stream",
     "text": [
      "Appending to helper/plot.py\n"
     ]
    }
   ],
   "source": [
    "%%writefile -a helper/plot.py\n",
    "\n",
    "def plot_training(train_losses, valid_losses, train_accuracies, valid_accuracies):\n",
    "    \"\"\"\n",
    "    Plots the training and validation losses and accuracies.\n",
    "    \n",
    "    Args:\n",
    "        train_losses (list): List of training losses\n",
    "        valid_losses (list): List of validation losses\n",
    "        train_accuracies (list): List of training accuracies\n",
    "        valid_accuracies (list): List of validation accuracies\n",
    "    \n",
    "    Returns:\n",
    "        None\n",
    "    \"\"\"\n",
    "    num_epochs = len(train_losses)\n",
    "    epochs = range(1, num_epochs + 1)\n",
    "\n",
    "    # Plot subplots for loss and accuracy\n",
    "    fig, (ax1, ax2) = plt.subplots(1, 2, figsize=(20, 8))\n",
    "\n",
    "    # Plot loss subplot\n",
    "    ax1.plot(epochs, train_losses, label='Training Loss')\n",
    "    ax1.plot(epochs, valid_losses, label='Validation Loss')\n",
    "    ax1.set_xlabel('Epoch')\n",
    "    ax1.set_ylabel('Loss')\n",
    "    ax1.set_title('Training and Validation Loss')\n",
    "    ax1.legend()\n",
    "\n",
    "    # Plot accuracy subplot\n",
    "    ax2.plot(epochs, train_accuracies, label='Training Accuracy')\n",
    "    ax2.plot(epochs, valid_accuracies, label='Validation Accuracy')\n",
    "    ax2.set_xlabel('Epoch')\n",
    "    ax2.set_ylabel('Accuracy')\n",
    "    ax2.set_title('Training and Validation Accuracy')\n",
    "    ax2.legend()\n",
    "\n",
    "    # Show the plot\n",
    "    plt.show()"
   ]
  },
  {
   "cell_type": "markdown",
   "metadata": {},
   "source": [
    "## Training"
   ]
  },
  {
   "cell_type": "code",
   "execution_count": 9,
   "metadata": {},
   "outputs": [
    {
     "name": "stdout",
     "output_type": "stream",
     "text": [
      "Overwriting helper/engine.py\n"
     ]
    }
   ],
   "source": [
    "%%writefile helper/engine.py\n",
    "\"\"\"\n",
    "Contains functions for training and evaluating the model.\n",
    "\"\"\"\n",
    "from typing import Dict, List, Tuple\n",
    "import gc\n",
    "import torch\n",
    "import torchmetrics\n",
    "from tqdm.auto import tqdm\n",
    "\n",
    "def cuda_collect():\n",
    "    \"\"\"\n",
    "    Collects the garbage and empties the cache on GPU.\n",
    "    \"\"\"\n",
    "    gc.collect()\n",
    "    torch.cuda.empty_cache()\n",
    "\n",
    "def train_step(model: torch.nn.Module,\n",
    "               data_loader: torch.utils.data.DataLoader,\n",
    "               loss_fn: torch.nn.Module,\n",
    "               optimizer: torch.optim.Optimizer,\n",
    "               scheduler: torch.optim.lr_scheduler.LRScheduler,\n",
    "               accuracy_fn: torchmetrics.Metric,\n",
    "               device: torch.device) -> Tuple[torch.Tensor, torch.Tensor]:\n",
    "    train_loss, train_acc = 0, 0\n",
    "    model.train()\n",
    "    # Model is expected to be in GPU already\n",
    "    for _, (images, labels) in tqdm(enumerate(data_loader),\n",
    "                                        total=len(data_loader),\n",
    "                                        desc='Training model:'):\n",
    "        images, labels= images.to(device), labels.to(device)\n",
    "\n",
    "        # 1. Forward pass\n",
    "        preds = model(images)\n",
    "\n",
    "        # 2. Calculate loss\n",
    "        loss = loss_fn(preds, labels)\n",
    "        train_loss += loss\n",
    "        train_acc += accuracy_fn(preds.argmax(dim=1), labels)\n",
    "\n",
    "        # 3. Optimizer zero grad\n",
    "        optimizer.zero_grad()\n",
    "\n",
    "        # 4. Loss backward\n",
    "        loss.backward()\n",
    "\n",
    "        # 5. Optimizer step\n",
    "        optimizer.step()\n",
    "\n",
    "        # 6. Garbage collection on GPU RAM\n",
    "        if device == torch.device('cuda'):\n",
    "            cuda_collect()\n",
    "    scheduler.step()\n",
    "    # Exponential learning rate scheduler reduces learning rate too fast\n",
    "    # A better option is torch.optim.lr_scheduler.OneCycleLR from the paper\n",
    "    # of https://arxiv.org/pdf/1708.07120.pdf on MNIST dataset\n",
    "    # I changed from exponential learning rate to onecycle learning scheduler\n",
    "    # as performance became slow after 70 epochs.\n",
    "\n",
    "    # Calculate loss and accuracy per epoch and print out what's happening\n",
    "    train_loss /= len(data_loader)\n",
    "    train_acc /= len(data_loader)\n",
    "    print(f\"Train loss: {train_loss:.5f} | Train accuracy: {train_acc:.2f}\")\n",
    "    return train_loss.cpu(), train_acc.cpu()\n",
    "\n",
    "def test_step(model: torch.nn.Module,\n",
    "               data_loader: torch.utils.data.DataLoader,\n",
    "               loss_fn: torch.nn.Module,\n",
    "               accuracy_fn: torchmetrics.Metric,\n",
    "               device: torch.device) -> Tuple[torch.Tensor, torch.Tensor]:\n",
    "    test_loss, test_acc = 0, 0\n",
    "    model.eval()\n",
    "    # Turn on inference context manager\n",
    "    with torch.inference_mode():\n",
    "        for images, labels in tqdm(data_loader,\n",
    "                                    total=len(data_loader),\n",
    "                                    desc='Making predictions:'):\n",
    "\n",
    "            images, labels= images.to(device), labels.to(device)\n",
    "\n",
    "            # 1. Forward pass\n",
    "            preds = model(images)\n",
    "\n",
    "            # 2. Calculate loss and accuracy\n",
    "            test_loss += loss_fn(preds, labels)\n",
    "            test_acc += accuracy_fn(preds.argmax(dim=1), labels)\n",
    "\n",
    "            if device == torch.device('cuda'):\n",
    "                cuda_collect()\n",
    "\n",
    "        # Adjust metrics and print out\n",
    "        test_loss /= len(data_loader)\n",
    "        test_acc /= len(data_loader)\n",
    "        print(f\"Test loss: {test_loss:.5f} | Test accuracy: {test_acc:.2f}\")\n",
    "    return test_loss.cpu(), test_acc.cpu()\n",
    "\n",
    "def train(model: torch.nn.Module,\n",
    "          train_loader: torch.utils.data.DataLoader,\n",
    "          valid_loader: torch.utils.data.DataLoader,\n",
    "          loss_fn: torch.nn.Module,\n",
    "          optimizer: torch.optim.Optimizer,\n",
    "          scheduler: torch.optim.lr_scheduler.LRScheduler,\n",
    "          accuracy_fn: torchmetrics.Metric,\n",
    "          device: torch.device,\n",
    "          epochs: int,\n",
    "          threshold: List[float]) -> Dict[str, List[torch.Tensor]]:\n",
    "    \"\"\"\n",
    "    Trains the model and evaluates it on the validation set.\n",
    "    \n",
    "    Args:\n",
    "        model (torch.nn.Module): Model to be trained\n",
    "        train_loader (torch.utils.data.DataLoader): Training data loader\n",
    "        valid_loader (torch.utils.data.DataLoader): Validation data loader\n",
    "        loss_fn (torch.nn.Module): Loss function\n",
    "        optimizer (torch.optim.Optimizer): Optimizer\n",
    "        scheduler (torch.optim.lr_scheduler.LRScheduler): Learning rate scheduler\n",
    "        accuracy_fn (torchmetrics.Accuracy): Accuracy function\n",
    "        device (torch.device): Device to run the training on\n",
    "        epochs (int): Number of epochs to train the model for\n",
    "        threshold (float): Threshold for early stopping\n",
    "    \n",
    "    Returns:\n",
    "        Dictionary containing training and validation losses and accuracies for each epoch.\n",
    "        In the form: {train_loss: [...],\n",
    "                  train_acc: [...],\n",
    "                  test_loss: [...],\n",
    "                  test_acc: [...]} \n",
    "        For example if training for epochs=2: \n",
    "                    {train_loss: [2.0616, 1.0537],\n",
    "                    train_acc: [0.3945, 0.3945],\n",
    "                    test_loss: [1.2641, 1.5706],\n",
    "                    test_acc: [0.3400, 0.2973]} \n",
    "    \"\"\"\n",
    "    results = {\"train_losses\": [], \"train_accuracies\": [],\n",
    "               \"valid_losses\": [], \"valid_accuracies\": []}\n",
    "    \n",
    "    tolerance = 0\n",
    "    threshold = torch.Tensor(threshold)\n",
    "    for epoch in tqdm(range(epochs)):\n",
    "        train_loss, train_acc = train_step(model, train_loader, loss_fn, optimizer, scheduler, accuracy_fn, device)\n",
    "        valid_loss, valid_acc = test_step(model, valid_loader, loss_fn, accuracy_fn, device)\n",
    "        print(\n",
    "            f\"Epoch {epoch + 1} of {epochs}\"\n",
    "            f\"\\n-------------------------------\"\n",
    "            f\"\\nTrain loss: {train_loss:.5f} | Train accuracy: {train_acc:.4f}\"\n",
    "            f\"\\nValid loss: {valid_loss:.5f} | Valid accuracy: {valid_acc:.4f}\"\n",
    "        )\n",
    "\n",
    "        results[\"train_losses\"].append(train_loss.detach())\n",
    "        results[\"train_accuracies\"].append(train_acc.cpu())\n",
    "        results[\"valid_losses\"].append(valid_loss.detach())\n",
    "        results[\"valid_accuracies\"].append(valid_acc.cpu())\n",
    "        if len(results[\"valid_losses\"]) > 1 and results[\"valid_losses\"][-2] - results[\"valid_losses\"][-1] < threshold:\n",
    "            tolerance += 1\n",
    "            if tolerance > 2:\n",
    "                break\n",
    "    return results"
   ]
  },
  {
   "cell_type": "markdown",
   "metadata": {},
   "source": [
    "## Saving model"
   ]
  },
  {
   "cell_type": "code",
   "execution_count": 10,
   "metadata": {},
   "outputs": [
    {
     "name": "stdout",
     "output_type": "stream",
     "text": [
      "Overwriting helper/utils.py\n"
     ]
    }
   ],
   "source": [
    "%%writefile helper/utils.py\n",
    "\"\"\"\n",
    "Contains utility functions for training and saving model\n",
    "\"\"\"\n",
    "import torch\n",
    "from pathlib import Path\n",
    "\n",
    "def save_model(model, save_dir, model_name, epoch, optimizer, loss):\n",
    "    \"\"\"\n",
    "    Saves model checkpoint\n",
    "\n",
    "    Args:\n",
    "        model (torch.nn.Module): Model to be saved\n",
    "        save_dir (str): Directory to save model\n",
    "        model_name (str): Name of model\n",
    "        epoch (int): Epoch number\n",
    "        optimizer (torch.optim.Optimizer): Optimizer\n",
    "        loss (float): Loss value\n",
    "\n",
    "    Returns:\n",
    "        None\n",
    "    \"\"\"\n",
    "    save_dir = Path(save_dir)\n",
    "    save_dir.mkdir(exist_ok=True, parents=True)\n",
    "    save_path = save_dir / f'{model_name}_epoch{epoch}_loss{loss}.pth'\n",
    "    torch.save({\n",
    "        'epoch': epoch,\n",
    "        'model_state_dict': model.state_dict(),\n",
    "        'optimizer_state_dict': optimizer.state_dict(),\n",
    "        'loss': loss,\n",
    "    }, save_path)\n",
    "    print(f'[INFO] Model saved to {save_path}')"
   ]
  },
  {
   "cell_type": "markdown",
   "metadata": {},
   "source": [
    "## Training script"
   ]
  },
  {
   "cell_type": "markdown",
   "metadata": {},
   "source": [
    "Actually don't need this one"
   ]
  }
 ],
 "metadata": {
  "kernelspec": {
   "display_name": "cb0494",
   "language": "python",
   "name": "python3"
  },
  "language_info": {
   "codemirror_mode": {
    "name": "ipython",
    "version": 3
   },
   "file_extension": ".py",
   "mimetype": "text/x-python",
   "name": "python",
   "nbconvert_exporter": "python",
   "pygments_lexer": "ipython3",
   "version": "3.11.3"
  },
  "orig_nbformat": 4
 },
 "nbformat": 4,
 "nbformat_minor": 2
}
